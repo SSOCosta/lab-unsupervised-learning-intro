{
 "cells": [
  {
   "cell_type": "code",
   "execution_count": 1,
   "id": "1ce3b6a0",
   "metadata": {},
   "outputs": [],
   "source": [
    "#importanting the necessary libraries\n",
    "import pandas as pd\n",
    "import numpy as np\n",
    "from sklearn.cluster import KMeans\n",
    "from sklearn.preprocessing import StandardScaler\n",
    "import pickle\n",
    "from spotipy.oauth2 import SpotifyClientCredentials\n",
    "from pandas import json_normalize\n",
    "import spotipy"
   ]
  },
  {
   "cell_type": "code",
   "execution_count": 2,
   "id": "020de760",
   "metadata": {},
   "outputs": [
    {
     "data": {
      "text/html": [
       "<div>\n",
       "<style scoped>\n",
       "    .dataframe tbody tr th:only-of-type {\n",
       "        vertical-align: middle;\n",
       "    }\n",
       "\n",
       "    .dataframe tbody tr th {\n",
       "        vertical-align: top;\n",
       "    }\n",
       "\n",
       "    .dataframe thead th {\n",
       "        text-align: right;\n",
       "    }\n",
       "</style>\n",
       "<table border=\"1\" class=\"dataframe\">\n",
       "  <thead>\n",
       "    <tr style=\"text-align: right;\">\n",
       "      <th></th>\n",
       "      <th>song_title</th>\n",
       "      <th>artist_name</th>\n",
       "    </tr>\n",
       "  </thead>\n",
       "  <tbody>\n",
       "    <tr>\n",
       "      <th>0</th>\n",
       "      <td>rockstar</td>\n",
       "      <td>dolly parton</td>\n",
       "    </tr>\n",
       "    <tr>\n",
       "      <th>1</th>\n",
       "      <td>new blue sun</td>\n",
       "      <td>andré 3000</td>\n",
       "    </tr>\n",
       "    <tr>\n",
       "      <th>2</th>\n",
       "      <td>higher</td>\n",
       "      <td>chris stapleton</td>\n",
       "    </tr>\n",
       "    <tr>\n",
       "      <th>3</th>\n",
       "      <td>cosmo</td>\n",
       "      <td>ozuna</td>\n",
       "    </tr>\n",
       "    <tr>\n",
       "      <th>4</th>\n",
       "      <td>poet’s resumé - ep</td>\n",
       "      <td>tim mcgraw</td>\n",
       "    </tr>\n",
       "  </tbody>\n",
       "</table>\n",
       "</div>"
      ],
      "text/plain": [
       "           song_title      artist_name\n",
       "0            rockstar     dolly parton\n",
       "1        new blue sun       andré 3000\n",
       "2              higher  chris stapleton\n",
       "3               cosmo            ozuna\n",
       "4  poet’s resumé - ep       tim mcgraw"
      ]
     },
     "execution_count": 2,
     "metadata": {},
     "output_type": "execute_result"
    }
   ],
   "source": [
    "#oppening my popvortex 100 hot songs file\n",
    "popv_hot_100 = pd.read_csv('top_songs.csv')\n",
    "popv_hot_100.head()"
   ]
  },
  {
   "cell_type": "code",
   "execution_count": 3,
   "id": "5904be67",
   "metadata": {},
   "outputs": [
    {
     "data": {
      "text/html": [
       "<div>\n",
       "<style scoped>\n",
       "    .dataframe tbody tr th:only-of-type {\n",
       "        vertical-align: middle;\n",
       "    }\n",
       "\n",
       "    .dataframe tbody tr th {\n",
       "        vertical-align: top;\n",
       "    }\n",
       "\n",
       "    .dataframe thead th {\n",
       "        text-align: right;\n",
       "    }\n",
       "</style>\n",
       "<table border=\"1\" class=\"dataframe\">\n",
       "  <thead>\n",
       "    <tr style=\"text-align: right;\">\n",
       "      <th></th>\n",
       "      <th>track.name</th>\n",
       "      <th>name</th>\n",
       "      <th>cluster</th>\n",
       "    </tr>\n",
       "  </thead>\n",
       "  <tbody>\n",
       "    <tr>\n",
       "      <th>0</th>\n",
       "      <td>2K</td>\n",
       "      <td>Nosaj Thing</td>\n",
       "      <td>8</td>\n",
       "    </tr>\n",
       "    <tr>\n",
       "      <th>1</th>\n",
       "      <td>4 Billion Souls</td>\n",
       "      <td>The Doors</td>\n",
       "      <td>7</td>\n",
       "    </tr>\n",
       "    <tr>\n",
       "      <th>2</th>\n",
       "      <td>4 Minute Warning</td>\n",
       "      <td>Radiohead</td>\n",
       "      <td>2</td>\n",
       "    </tr>\n",
       "    <tr>\n",
       "      <th>3</th>\n",
       "      <td>7 Element</td>\n",
       "      <td>Vitas</td>\n",
       "      <td>0</td>\n",
       "    </tr>\n",
       "    <tr>\n",
       "      <th>4</th>\n",
       "      <td>#9 Dream</td>\n",
       "      <td>R.E.M.</td>\n",
       "      <td>6</td>\n",
       "    </tr>\n",
       "  </tbody>\n",
       "</table>\n",
       "</div>"
      ],
      "text/plain": [
       "         track.name         name  cluster\n",
       "0                2K  Nosaj Thing        8\n",
       "1   4 Billion Souls    The Doors        7\n",
       "2  4 Minute Warning    Radiohead        2\n",
       "3         7 Element        Vitas        0\n",
       "4          #9 Dream       R.E.M.        6"
      ]
     },
     "execution_count": 3,
     "metadata": {},
     "output_type": "execute_result"
    }
   ],
   "source": [
    "#oppening my spotify list\n",
    "spotify_list = pd.read_csv('spotify_df_w_clusters.csv')\n",
    "spotify_list.head()"
   ]
  },
  {
   "cell_type": "code",
   "execution_count": 4,
   "id": "5ec84bae",
   "metadata": {},
   "outputs": [],
   "source": [
    "# Stablishing  spotify connection\n",
    "def open_spotify_connection():\n",
    "    secrets_file = open(\"Secrets\",\"r\")\n",
    "    string = secrets_file.read()\n",
    "    secrets_dict={}\n",
    "    for line in string.split('\\n'):\n",
    "        if len(line) > 0:\n",
    "            #print(line.split(':'))\n",
    "            secrets_dict[line.split(':')[0]]=line.split(':')[1].strip()\n",
    "    sp = spotipy.Spotify(auth_manager=SpotifyClientCredentials(client_id=secrets_dict['clientid'],\n",
    "                                                           client_secret=secrets_dict['clientsecret']))\n",
    "    return sp;"
   ]
  },
  {
   "cell_type": "code",
   "execution_count": 5,
   "id": "1efc1a4c",
   "metadata": {},
   "outputs": [],
   "source": [
    "# Song recommendation model\n",
    "def song_recommender(title):\n",
    "    # Convert the user input and song names to lowercase for case-insensitive comparison\n",
    "    user_input_song_lower = user_input_song.lower()\n",
    "    top_chart_songs_lower = popv_hot_100.apply(lambda x: x.str.lower())\n",
    "    # Check if the user-inputted song is in the top chart songs list (case-insensitive)\n",
    "    if user_input_song_lower in top_chart_songs_lower['song_title'].values:\n",
    "        # Filter out the user-inputted song from the DataFrame\n",
    "        top_chart_songs_without_input = popv_hot_100[\n",
    "            top_chart_songs_lower['song_title'] != user_input_song_lower]\n",
    "        # Recommend a random song from the filtered DataFrame\n",
    "        recommended_song = top_chart_songs_without_input.sample().squeeze()\n",
    "        print(f\"That's a Hot song!You might also like: {recommended_song['song_title']} by {recommended_song['artist_name']}\")\n",
    "    else:\n",
    "        #open spotify connection\n",
    "        sp = open_spotify_connection()\n",
    "        # Query Spotify\n",
    "        results = sp.search(q=f\"track:{user_input_song_lower}\", type=\"track\", limit=1)\n",
    "        # Check if the query returns results (i.e., total > 0)\n",
    "        if results['tracks']['total'] != 0:\n",
    "            track_id = results['tracks']['items'][0]['id']\n",
    "            #print(track_id)\n",
    "            new_data = sp.audio_features(track_id)\n",
    "            data_df = json_normalize(new_data[0])\n",
    "            num_data_df = data_df.select_dtypes(include='number')\n",
    "            # Use pickle to get the existing scaler and kmeans \n",
    "            kmeans = pickle.load(open('kmeans.pkl', 'rb'))\n",
    "            scaler = pickle.load(open('scaler.pkl', 'rb'))\n",
    "            scaler = scaler.transform(num_data_df)\n",
    "            predicted_cluster = kmeans.predict(scaler)\n",
    "            cluster = predicted_cluster[0]\n",
    "            #print (cluster)\n",
    "            rec_song = spotify_list[spotify_list['cluster'] == cluster].sample().squeeze()\n",
    "            print(f\"That's in my spotify_list!You might also like: {rec_song['track.name']} by {rec_song['name']}\")\n",
    "        else:\n",
    "            print(\"The song is not in Spotify. Please try again\")\n"
   ]
  },
  {
   "cell_type": "code",
   "execution_count": 6,
   "id": "122d9fcc",
   "metadata": {},
   "outputs": [
    {
     "name": "stdout",
     "output_type": "stream",
     "text": [
      "Enter a song: Why can't I be you?\n",
      "That's in my spotify_list!You might also like: Superior Circle by Fly Golden Eagle\n"
     ]
    }
   ],
   "source": [
    "# Get User Input\n",
    "user_input_song = input(\"Enter a song: \")\n",
    "song_recommender(user_input_song)"
   ]
  }
 ],
 "metadata": {
  "kernelspec": {
   "display_name": "Python 3 (ipykernel)",
   "language": "python",
   "name": "python3"
  },
  "language_info": {
   "codemirror_mode": {
    "name": "ipython",
    "version": 3
   },
   "file_extension": ".py",
   "mimetype": "text/x-python",
   "name": "python",
   "nbconvert_exporter": "python",
   "pygments_lexer": "ipython3",
   "version": "3.11.5"
  }
 },
 "nbformat": 4,
 "nbformat_minor": 5
}
